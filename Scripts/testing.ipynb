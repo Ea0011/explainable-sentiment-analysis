{
 "cells": [
  {
   "cell_type": "code",
   "execution_count": null,
   "metadata": {},
   "outputs": [],
   "source": []
  },
  {
   "cell_type": "code",
   "execution_count": null,
   "metadata": {},
   "outputs": [],
   "source": [
    "def predictTextEmotion(text):\n",
    "  tokenizer = AutoTokenizer.from_pretrained(\"vinai/bertweet-base\", normalization=True)\n",
    "  encoding = tokenizer.encode_plus(\n",
    "    text,\n",
    "    add_special_tokens=True,\n",
    "    max_length=128,\n",
    "    return_token_type_ids=False,\n",
    "    return_attention_mask=True,\n",
    "    return_tensors='pt',\n",
    "    padding='max_length',\n",
    "    truncation=True,\n",
    "  )\n",
    "  label_encoder = LabelEncoder()\n",
    "  label_encoder.fit_transform(df_train.broadEmo)\n",
    "\n",
    "  inputIds = encoding['input_ids'].flatten().unsqueeze(0)\n",
    "  attentionMask = encoding['attention_mask'].flatten().unsqueeze(0)\n",
    "\n",
    "  emotionScores = model(inputIds, attentionMask)\n",
    "  emotion = torch.argmax(emotionScores)\n",
    "\n",
    "  classProbabilities = {}\n",
    "  with torch.no_grad():\n",
    "    probs = torch.softmax(emotionScores, dim=1).flatten()\n",
    "    for prob, label in zip(probs, label_encoder.classes_):\n",
    "      classProbabilities[label] = \"{:.2%}\".format(prob.item())\n",
    "\n",
    "  return label_encoder.inverse_transform([emotion.item()])[0], classProbabilities\n"
   ]
  },
  {
   "cell_type": "code",
   "execution_count": null,
   "metadata": {},
   "outputs": [],
   "source": [
    "def computeModelPredictions(dataLoader):\n",
    "  tokenizer = AutoTokenizer.from_pretrained(\"vinai/bertweet-base\", normalization=True)\n",
    "  groundTruth = torch.tensor([], dtype=torch.long)\n",
    "  predictions = torch.tensor([], dtype=torch.long)\n",
    "  i=0\n",
    "\n",
    "  for x in dataLoader:\n",
    "    print(\"{} out of 2459\".format(i+32))\n",
    "    i = i + 32\n",
    "    inputIds, attentionMask, targets = x['input_ids'], x['attention_mask'], x['targets']\n",
    "\n",
    "    emotionScores = model(inputIds.cuda(), attentionMask.cuda())\n",
    "    predictions = torch.cat((predictions, emotionScores.argmax(dim=1).cpu()))\n",
    "    groundTruth = torch.cat((groundTruth, targets.cpu()))\n",
    "\n",
    "  return predictions, groundTruth"
   ]
  },
  {
   "cell_type": "code",
   "execution_count": null,
   "metadata": {},
   "outputs": [],
   "source": [
    "model = TextClassifierModule.load_from_checkpoint(\"{}/models/emotion-recognizer.ckpt\".format(os.getcwd()))\n",
    "model.eval()\n",
    "print(model)"
   ]
  },
  {
   "cell_type": "code",
   "execution_count": null,
   "metadata": {},
   "outputs": [],
   "source": [
    "import json\n",
    "\n",
    "text = input(\"Input text to get its emotion \\n\")\n",
    "emotion, classProbabilities = predictTextEmotion(text)\n",
    "\n",
    "print(emotion, \"\\n\")\n",
    "print(json.dumps(classProbabilities, indent=1))"
   ]
  },
  {
   "cell_type": "code",
   "execution_count": null,
   "metadata": {},
   "outputs": [],
   "source": [
    "import json\n",
    "\n",
    "text = input(\"Input text to get its emotion \\n\")\n",
    "emotion, classProbabilities = predictTextEmotion(text)\n",
    "\n",
    "print(emotion, \"\\n\")\n",
    "print(json.dumps(classProbabilities, indent=1))"
   ]
  },
  {
   "cell_type": "code",
   "execution_count": null,
   "metadata": {},
   "outputs": [],
   "source": []
  },
  {
   "cell_type": "code",
   "execution_count": null,
   "metadata": {},
   "outputs": [],
   "source": []
  },
  {
   "cell_type": "code",
   "execution_count": null,
   "metadata": {},
   "outputs": [],
   "source": [
    "data_module.setup()\n",
    "yHat, y = computeModelPredictions(data_module.test_dataloader())"
   ]
  },
  {
   "cell_type": "code",
   "execution_count": null,
   "metadata": {},
   "outputs": [],
   "source": [
    "# Plot the confusion matrix\n",
    "\n",
    "from sklearn.metrics import confusion_matrix\n",
    "from sklearn.metrics import ConfusionMatrixDisplay\n",
    "labs = empDialogueData.broadEmo.unique().tolist()\n",
    "labs.sort()\n",
    "\n",
    "yList = y.tolist()\n",
    "yHatList = yHat.tolist()\n",
    "truth = list(map(lambda x: labs[x], yList))\n",
    "preds = list(map(lambda x: labs[x], yHatList))\n",
    "\n",
    "fig, ax = plt.subplots(figsize=(8, 8))\n",
    "ConfusionMatrixDisplay.from_predictions(truth, preds, labels=labs, xticks_rotation=45, cmap=\"inferno\", ax=ax)\n",
    "plt.show()"
   ]
  },
  {
   "cell_type": "markdown",
   "metadata": {},
   "source": [
    "# Explainability"
   ]
  },
  {
   "cell_type": "code",
   "execution_count": null,
   "metadata": {},
   "outputs": [],
   "source": []
  }
 ],
 "metadata": {
  "language_info": {
   "name": "python"
  },
  "orig_nbformat": 4
 },
 "nbformat": 4,
 "nbformat_minor": 2
}
