{
  "cells": [
    {
      "cell_type": "code",
      "source": [
        "!pip3 install transformers\n",
        "!pip3 install emoji"
      ],
      "metadata": {
        "id": "rRTTy5rkrIIr"
      },
      "execution_count": null,
      "outputs": []
    },
    {
      "cell_type": "code",
      "source": [
        "from google.colab import drive \n",
        "drive.mount('/content/drive')\n",
        "%cd drive/MyDrive/XAI_gitlab/conecept-x-for-emotion-detection-2/"
      ],
      "metadata": {
        "colab": {
          "base_uri": "https://localhost:8080/"
        },
        "id": "hWbdzBPQq7eW",
        "outputId": "802e3ae6-746f-4aa9-f4ec-9b4c53d00950"
      },
      "execution_count": 2,
      "outputs": [
        {
          "output_type": "stream",
          "name": "stdout",
          "text": [
            "Mounted at /content/drive\n",
            "/content/drive/MyDrive/XAI_gitlab/conecept-x-for-emotion-detection-2\n"
          ]
        }
      ]
    },
    {
      "cell_type": "code",
      "execution_count": 19,
      "metadata": {
        "id": "r0BUqHsnqjvs"
      },
      "outputs": [],
      "source": [
        "import numpy as np\n",
        "import pandas as pd\n",
        "import matplotlib.pyplot as plt\n",
        "import os\n",
        "from Utils.TextProcessing import encode_text, TokenizerSingleton"
      ]
    },
    {
      "cell_type": "code",
      "execution_count": 6,
      "metadata": {
        "colab": {
          "base_uri": "https://localhost:8080/",
          "height": 36
        },
        "id": "HbgfDXDsqjvt",
        "outputId": "7434a8fd-547d-47b6-dab2-21a051c55651"
      },
      "outputs": [
        {
          "output_type": "execute_result",
          "data": {
            "application/vnd.google.colaboratory.intrinsic+json": {
              "type": "string"
            },
            "text/plain": [
              "'/content/drive/My Drive/emotion_detection'"
            ]
          },
          "metadata": {},
          "execution_count": 6
        }
      ],
      "source": [
        "os.chdir('/content/drive/My Drive/emotion_detection')\n",
        "os.getcwd() # use this directory as root, all logs and model checkpoints are saved here"
      ]
    },
    {
      "cell_type": "code",
      "execution_count": 7,
      "metadata": {
        "id": "giMVsUTLqjvu"
      },
      "outputs": [],
      "source": [
        "data_df = pd.read_csv(\"{}/datasets/combined_data.csv\".format(os.getcwd()), sep='\\t')\n",
        "data_df = data_df[data_df.dataset.isin(np.unique(\"Empathetic Dialogues\"))]"
      ]
    },
    {
      "cell_type": "markdown",
      "metadata": {
        "id": "IPF4NDT-qjvw"
      },
      "source": [
        "# Data Description\n",
        "\n",
        "\n",
        "This data table contains texts from several datasets combined together. It contains  \n",
        "versatile variants text. The sources for texts include Reddit Posts,  \n",
        "tweets from different users, texts from dialgues coming from English textbooks  and manually collected sentences which were used for chat bot building. Merged datasets include  \n",
        "\n",
        "\n",
        "1.   [Empathetic Dialogues](https://github.com/facebookresearch/EmpatheticDialogues), [Paper](https://arxiv.org/pdf/1811.00207v5.pdf)\n",
        "2.   [CrowdFlower Tweet Data](https://www.kaggle.com/pashupatigupta/emotion-detection-from-text)\n",
        "3.   [GoEmotions Reddit Posts](https://github.com/google-research/google-research/tree/master/goemotions), [Paper](https://arxiv.org/pdf/2005.00547v2.pdf)\n",
        "4.   [DailyDialogue dialogue text](http://yanran.li/dailydialog), [Paper](https://arxiv.org/pdf/1710.03957.pdf)\n",
        "\n",
        "\n",
        "The versatility of texts that may help in build more robust emotion classifier. That is to say, a model can learn to discern emotional patterns both from contemporary style of social media texts and from something more formal, such as texts found in *EmpatheticDialogues* and *DailyDialogue* datasets.\n",
        "\n",
        "Texts coming from different datasets have several kinds of emotion labels. Some use very fine grained labels while some have labels only for small amount of emotions.  For instance, *EmpatheticDialogues* datasets uses 32 labels. To this end, we coalesce fine grained labels from the data into 6 basic emotions according  to Parrots emotion hierarchy ([Parrots Emotion Grouping](https://en.wikipedia.org/wiki/Emotion_classification)). A more visual explanation is given in the following wheel [Wheel of Emotions](https://www.becalmwithtati.com/wp-content/uploads/2019/02/Mindfulness_for_Emotions.jpeg).  \n",
        "\n",
        "This way, we obtain the *broadEmo* label in the dataset. Fine level emotion label is also present in the data so that both brad and fine emotions can be predicted with a model.  \n",
        "\n",
        "Moreover, the dataset name is also placed with each row so that dataset subsetting can be performed. This may be useful to train models only on specific kind of data."
      ]
    },
    {
      "cell_type": "code",
      "execution_count": 9,
      "metadata": {
        "colab": {
          "base_uri": "https://localhost:8080/"
        },
        "id": "fW8Ijkesqjvx",
        "outputId": "27a9d2d4-85cd-42a1-9254-3d6d22ef15fc"
      },
      "outputs": [
        {
          "output_type": "stream",
          "name": "stdout",
          "text": [
            "sentence    0\n",
            "broadEmo    0\n",
            "fineEmo     0\n",
            "dataset     0\n",
            "dtype: int64\n"
          ]
        }
      ],
      "source": [
        "print(data_df.isnull().sum())"
      ]
    },
    {
      "cell_type": "code",
      "execution_count": 10,
      "metadata": {
        "colab": {
          "base_uri": "https://localhost:8080/"
        },
        "id": "xZrsJmRHqjvy",
        "outputId": "bf2c0ab7-e1be-4e52-8a83-e21624129187"
      },
      "outputs": [
        {
          "output_type": "stream",
          "name": "stdout",
          "text": [
            "\n",
            "Sentiment Counts:\n",
            "Joy         6869\n",
            "Sad         5234\n",
            "Anger       3995\n",
            "Fear        2932\n",
            "Other       2139\n",
            "Surprise    2074\n",
            "Love        1346\n",
            "Name: broadEmo, dtype: int64\n",
            "\n",
            "['Sad', 'Love', 'Joy', 'Anger', 'Fear', 'Other', 'Surprise']\n"
          ]
        }
      ],
      "source": [
        "print(\"\\nSentiment Counts:\")\n",
        "print(data_df.broadEmo.value_counts())\n",
        "print()\n",
        "classesBroad = data_df.broadEmo.unique().tolist()\n",
        "print(classesBroad)"
      ]
    },
    {
      "cell_type": "code",
      "execution_count": 11,
      "metadata": {
        "colab": {
          "base_uri": "https://localhost:8080/",
          "height": 509
        },
        "id": "bazwGryFqjvy",
        "outputId": "59f18400-e53d-44c4-95e4-e48257aa78e1"
      },
      "outputs": [
        {
          "output_type": "display_data",
          "data": {
            "image/png": "[encoded data removed]",
            "text/plain": [
              "<Figure size 1152x576 with 1 Axes>"
            ]
          },
          "metadata": {
            "needs_background": "light"
          }
        }
      ],
      "source": [
        "fig, ax = plt.subplots(figsize=(16, 8))\n",
        "\n",
        "ax.hist(data_df['broadEmo'])\n",
        "\n",
        "ax.set_xticklabels(list(classesBroad), rotation=45)\n",
        "plt.show()"
      ]
    },
    {
      "cell_type": "code",
      "execution_count": 12,
      "metadata": {
        "colab": {
          "base_uri": "https://localhost:8080/"
        },
        "id": "2rBhYod2qjvz",
        "outputId": "4dc6fe07-fe11-4458-9196-56efc4f31e50"
      },
      "outputs": [
        {
          "output_type": "stream",
          "name": "stdout",
          "text": [
            "\n",
            "Sentiment Counts:\n",
            "surprise          1274\n",
            "excitement         928\n",
            "annoyance          870\n",
            "anger              854\n",
            "sadness            851\n",
            "pride              850\n",
            "gratitude          808\n",
            "lonely             805\n",
            "impressed          800\n",
            "fear               785\n",
            "confident          780\n",
            "disgusted          779\n",
            "hopeful            778\n",
            "worry              772\n",
            "terrified          768\n",
            "disappointment     766\n",
            "joy                766\n",
            "prepared           758\n",
            "nostalgic          756\n",
            "guilty             751\n",
            "jealous            749\n",
            "anticipating       746\n",
            "furious            743\n",
            "embarrassment      736\n",
            "content            730\n",
            "devastated         700\n",
            "sentimental        687\n",
            "caring             659\n",
            "trusting           635\n",
            "ashamed            625\n",
            "apprehensive       607\n",
            "faithful           473\n",
            "Name: fineEmo, dtype: int64\n",
            "\n",
            "['guilty', 'caring', 'lonely', 'excitement', 'sadness', 'hopeful', 'anger', 'joy', 'disappointment', 'faithful', 'content', 'annoyance', 'terrified', 'nostalgic', 'gratitude', 'trusting', 'surprise', 'ashamed', 'impressed', 'pride', 'furious', 'sentimental', 'confident', 'worry', 'jealous', 'fear', 'disgusted', 'embarrassment', 'anticipating', 'devastated', 'prepared', 'apprehensive']\n"
          ]
        }
      ],
      "source": [
        "print(\"\\nSentiment Counts:\")\n",
        "print(data_df.fineEmo.value_counts())\n",
        "print()\n",
        "classesFine = data_df.fineEmo.unique().tolist()\n",
        "print(classesFine)"
      ]
    },
    {
      "cell_type": "code",
      "execution_count": 13,
      "metadata": {
        "colab": {
          "base_uri": "https://localhost:8080/",
          "height": 536
        },
        "id": "Za0lzWvsqjv0",
        "outputId": "ccc8dff1-78c0-4a8c-a453-1962f794dfe3"
      },
      "outputs": [
        {
          "output_type": "display_data",
          "data": {
            "image/png": "[encoded data removed]",
            "text/plain": [
              "<Figure size 1152x576 with 1 Axes>"
            ]
          },
          "metadata": {
            "needs_background": "light"
          }
        }
      ],
      "source": [
        "fig, ax = plt.subplots(figsize=(16, 8))\n",
        "\n",
        "ax.hist(data_df['fineEmo'])\n",
        "\n",
        "ax.set_xticklabels(list(classesFine), rotation=45)\n",
        "plt.show()"
      ]
    },
    {
      "cell_type": "code",
      "execution_count": 21,
      "metadata": {
        "colab": {
          "base_uri": "https://localhost:8080/",
          "height": 285
        },
        "id": "iSTwgEgoqjv1",
        "outputId": "0ede96df-9f50-43e4-9f20-68b81e43e830"
      },
      "outputs": [
        {
          "output_type": "stream",
          "name": "stderr",
          "text": [
            "Token indices sequence length is longer than the specified maximum sequence length for this model (132 > 128). Running this sequence through the model will result in indexing errors\n"
          ]
        },
        {
          "output_type": "display_data",
          "data": {
            "image/png": "[encoded data removed]",
            "text/plain": [
              "<Figure size 432x288 with 1 Axes>"
            ]
          },
          "metadata": {
            "needs_background": "light"
          }
        }
      ],
      "source": [
        "tokenizer = TokenizerSingleton.get_tokenizer_instance()\n",
        "\n",
        "token_lens = []\n",
        "for txt in data_df.sentence:\n",
        "  tokens = tokenizer.encode(txt)\n",
        "  token_lens.append(len(tokens))\n",
        "\n",
        "fig, ax = plt.subplots()\n",
        "ax.hist(token_lens)\n",
        "plt.show()"
      ]
    },
    {
      "cell_type": "code",
      "execution_count": 22,
      "metadata": {
        "colab": {
          "base_uri": "https://localhost:8080/"
        },
        "id": "KTz9QlSfqjv1",
        "outputId": "0bf5e1a3-2b90-47d7-af8f-ce92faef32d1"
      },
      "outputs": [
        {
          "output_type": "stream",
          "name": "stdout",
          "text": [
            "283\n"
          ]
        }
      ],
      "source": [
        "# padding and truncation should be ok, not that many sentences cross max_length of\n",
        "# BERTweet\n",
        "\n",
        "arr = np.array(token_lens)\n",
        "print(sum(arr[arr > 128]))\n",
        "max(token_lens)\n",
        "\n",
        "threshold_len = 128"
      ]
    },
    {
      "cell_type": "code",
      "source": [
        ""
      ],
      "metadata": {
        "id": "HzxocxlosiOI"
      },
      "execution_count": null,
      "outputs": []
    }
  ],
  "metadata": {
    "language_info": {
      "name": "python"
    },
    "orig_nbformat": 4,
    "colab": {
      "name": "first_analysis.ipynb",
      "provenance": [],
      "collapsed_sections": []
    },
    "kernelspec": {
      "name": "python3",
      "display_name": "Python 3"
    }
  },
  "nbformat": 4,
  "nbformat_minor": 0
}